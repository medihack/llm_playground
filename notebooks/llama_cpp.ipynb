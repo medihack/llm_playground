{
 "cells": [
  {
   "cell_type": "code",
   "execution_count": 1,
   "id": "d1e3d74f-2651-40da-825a-65bddfba89d4",
   "metadata": {},
   "outputs": [
    {
     "name": "stderr",
     "output_type": "stream",
     "text": [
      "llama_model_loader: loaded meta data with 24 key-value pairs and 291 tensors from ../models/mistral-7b-instruct-v0.2.Q4_K_M.gguf (version GGUF V3 (latest))\n",
      "llama_model_loader: Dumping metadata keys/values. Note: KV overrides do not apply in this output.\n",
      "llama_model_loader: - kv   0:                       general.architecture str              = llama\n",
      "llama_model_loader: - kv   1:                               general.name str              = mistralai_mistral-7b-instruct-v0.2\n",
      "llama_model_loader: - kv   2:                       llama.context_length u32              = 32768\n",
      "llama_model_loader: - kv   3:                     llama.embedding_length u32              = 4096\n",
      "llama_model_loader: - kv   4:                          llama.block_count u32              = 32\n",
      "llama_model_loader: - kv   5:                  llama.feed_forward_length u32              = 14336\n",
      "llama_model_loader: - kv   6:                 llama.rope.dimension_count u32              = 128\n",
      "llama_model_loader: - kv   7:                 llama.attention.head_count u32              = 32\n",
      "llama_model_loader: - kv   8:              llama.attention.head_count_kv u32              = 8\n",
      "llama_model_loader: - kv   9:     llama.attention.layer_norm_rms_epsilon f32              = 0.000010\n",
      "llama_model_loader: - kv  10:                       llama.rope.freq_base f32              = 1000000.000000\n",
      "llama_model_loader: - kv  11:                          general.file_type u32              = 15\n",
      "llama_model_loader: - kv  12:                       tokenizer.ggml.model str              = llama\n",
      "llama_model_loader: - kv  13:                      tokenizer.ggml.tokens arr[str,32000]   = [\"<unk>\", \"<s>\", \"</s>\", \"<0x00>\", \"<...\n",
      "llama_model_loader: - kv  14:                      tokenizer.ggml.scores arr[f32,32000]   = [0.000000, 0.000000, 0.000000, 0.0000...\n",
      "llama_model_loader: - kv  15:                  tokenizer.ggml.token_type arr[i32,32000]   = [2, 3, 3, 6, 6, 6, 6, 6, 6, 6, 6, 6, ...\n",
      "llama_model_loader: - kv  16:                tokenizer.ggml.bos_token_id u32              = 1\n",
      "llama_model_loader: - kv  17:                tokenizer.ggml.eos_token_id u32              = 2\n",
      "llama_model_loader: - kv  18:            tokenizer.ggml.unknown_token_id u32              = 0\n",
      "llama_model_loader: - kv  19:            tokenizer.ggml.padding_token_id u32              = 0\n",
      "llama_model_loader: - kv  20:               tokenizer.ggml.add_bos_token bool             = true\n",
      "llama_model_loader: - kv  21:               tokenizer.ggml.add_eos_token bool             = false\n",
      "llama_model_loader: - kv  22:                    tokenizer.chat_template str              = {{ bos_token }}{% for message in mess...\n",
      "llama_model_loader: - kv  23:               general.quantization_version u32              = 2\n",
      "llama_model_loader: - type  f32:   65 tensors\n",
      "llama_model_loader: - type q4_K:  193 tensors\n",
      "llama_model_loader: - type q6_K:   33 tensors\n",
      "llm_load_vocab: special tokens definition check successful ( 259/32000 ).\n",
      "llm_load_print_meta: format           = GGUF V3 (latest)\n",
      "llm_load_print_meta: arch             = llama\n",
      "llm_load_print_meta: vocab type       = SPM\n",
      "llm_load_print_meta: n_vocab          = 32000\n",
      "llm_load_print_meta: n_merges         = 0\n",
      "llm_load_print_meta: n_ctx_train      = 32768\n",
      "llm_load_print_meta: n_embd           = 4096\n",
      "llm_load_print_meta: n_head           = 32\n",
      "llm_load_print_meta: n_head_kv        = 8\n",
      "llm_load_print_meta: n_layer          = 32\n",
      "llm_load_print_meta: n_rot            = 128\n",
      "llm_load_print_meta: n_embd_head_k    = 128\n",
      "llm_load_print_meta: n_embd_head_v    = 128\n",
      "llm_load_print_meta: n_gqa            = 4\n",
      "llm_load_print_meta: n_embd_k_gqa     = 1024\n",
      "llm_load_print_meta: n_embd_v_gqa     = 1024\n",
      "llm_load_print_meta: f_norm_eps       = 0.0e+00\n",
      "llm_load_print_meta: f_norm_rms_eps   = 1.0e-05\n",
      "llm_load_print_meta: f_clamp_kqv      = 0.0e+00\n",
      "llm_load_print_meta: f_max_alibi_bias = 0.0e+00\n",
      "llm_load_print_meta: n_ff             = 14336\n",
      "llm_load_print_meta: n_expert         = 0\n",
      "llm_load_print_meta: n_expert_used    = 0\n",
      "llm_load_print_meta: rope scaling     = linear\n",
      "llm_load_print_meta: freq_base_train  = 1000000.0\n",
      "llm_load_print_meta: freq_scale_train = 1\n",
      "llm_load_print_meta: n_yarn_orig_ctx  = 32768\n",
      "llm_load_print_meta: rope_finetuned   = unknown\n",
      "llm_load_print_meta: model type       = 7B\n",
      "llm_load_print_meta: model ftype      = Q4_K - Medium\n",
      "llm_load_print_meta: model params     = 7.24 B\n",
      "llm_load_print_meta: model size       = 4.07 GiB (4.83 BPW) \n",
      "llm_load_print_meta: general.name     = mistralai_mistral-7b-instruct-v0.2\n",
      "llm_load_print_meta: BOS token        = 1 '<s>'\n",
      "llm_load_print_meta: EOS token        = 2 '</s>'\n",
      "llm_load_print_meta: UNK token        = 0 '<unk>'\n",
      "llm_load_print_meta: PAD token        = 0 '<unk>'\n",
      "llm_load_print_meta: LF token         = 13 '<0x0A>'\n",
      "llm_load_tensors: ggml ctx size =    0.11 MiB\n",
      "llm_load_tensors:        CPU buffer size =  4165.37 MiB\n",
      "...............................................................................................\n",
      "llama_new_context_with_model: n_ctx      = 512\n",
      "llama_new_context_with_model: freq_base  = 1000000.0\n",
      "llama_new_context_with_model: freq_scale = 1\n",
      "llama_kv_cache_init:        CPU KV buffer size =    64.00 MiB\n",
      "llama_new_context_with_model: KV self size  =   64.00 MiB, K (f16):   32.00 MiB, V (f16):   32.00 MiB\n",
      "llama_new_context_with_model:        CPU input buffer size   =    10.01 MiB\n",
      "llama_new_context_with_model:        CPU compute buffer size =    72.00 MiB\n",
      "llama_new_context_with_model: graph splits (measure): 1\n",
      "AVX = 1 | AVX_VNNI = 1 | AVX2 = 1 | AVX512 = 0 | AVX512_VBMI = 0 | AVX512_VNNI = 0 | FMA = 1 | NEON = 0 | ARM_FMA = 0 | F16C = 1 | FP16_VA = 0 | WASM_SIMD = 0 | BLAS = 0 | SSE3 = 1 | SSSE3 = 1 | VSX = 0 | MATMUL_INT8 = 0 | \n",
      "Model metadata: {'tokenizer.chat_template': \"{{ bos_token }}{% for message in messages %}{% if (message['role'] == 'user') != (loop.index0 % 2 == 0) %}{{ raise_exception('Conversation roles must alternate user/assistant/user/assistant/...') }}{% endif %}{% if message['role'] == 'user' %}{{ '[INST] ' + message['content'] + ' [/INST]' }}{% elif message['role'] == 'assistant' %}{{ message['content'] + eos_token}}{% else %}{{ raise_exception('Only user and assistant roles are supported!') }}{% endif %}{% endfor %}\", 'tokenizer.ggml.add_eos_token': 'false', 'tokenizer.ggml.padding_token_id': '0', 'tokenizer.ggml.unknown_token_id': '0', 'tokenizer.ggml.eos_token_id': '2', 'general.architecture': 'llama', 'llama.rope.freq_base': '1000000.000000', 'llama.context_length': '32768', 'general.name': 'mistralai_mistral-7b-instruct-v0.2', 'tokenizer.ggml.add_bos_token': 'true', 'llama.embedding_length': '4096', 'llama.feed_forward_length': '14336', 'llama.attention.layer_norm_rms_epsilon': '0.000010', 'llama.rope.dimension_count': '128', 'tokenizer.ggml.bos_token_id': '1', 'llama.attention.head_count': '32', 'llama.block_count': '32', 'llama.attention.head_count_kv': '8', 'general.quantization_version': '2', 'tokenizer.ggml.model': 'llama', 'general.file_type': '15'}\n",
      "Using chat template: {{ bos_token }}{% for message in messages %}{% if (message['role'] == 'user') != (loop.index0 % 2 == 0) %}{{ raise_exception('Conversation roles must alternate user/assistant/user/assistant/...') }}{% endif %}{% if message['role'] == 'user' %}{{ '[INST] ' + message['content'] + ' [/INST]' }}{% elif message['role'] == 'assistant' %}{{ message['content'] + eos_token}}{% else %}{{ raise_exception('Only user and assistant roles are supported!') }}{% endif %}{% endfor %}\n",
      "Using chat eos_token: \n",
      "Using chat bos_token: \n"
     ]
    }
   ],
   "source": [
    "from llama_cpp import Llama\n",
    "\n",
    "llm = Llama(model_path=\"../models/mistral-7b-instruct-v0.2.Q4_K_M.gguf\")"
   ]
  },
  {
   "cell_type": "code",
   "execution_count": 10,
   "id": "817149d1-3ede-48ba-9d7a-f911352f8498",
   "metadata": {},
   "outputs": [
    {
     "name": "stderr",
     "output_type": "stream",
     "text": [
      "Llama.generate: prefix-match hit\n",
      "\n",
      "llama_print_timings:        load time =   12588.43 ms\n",
      "llama_print_timings:      sample time =       4.20 ms /    17 runs   (    0.25 ms per token,  4049.55 tokens per second)\n",
      "llama_print_timings: prompt eval time =    1663.08 ms /    10 tokens (  166.31 ms per token,     6.01 tokens per second)\n",
      "llama_print_timings:        eval time =    2889.24 ms /    16 runs   (  180.58 ms per token,     5.54 tokens per second)\n",
      "llama_print_timings:       total time =    4616.94 ms /    26 tokens\n"
     ]
    },
    {
     "data": {
      "text/plain": [
       "{'id': 'cmpl-51273b24-9d22-4ace-9371-19f1fc7c9e39',\n",
       " 'object': 'text_completion',\n",
       " 'created': 1708290617,\n",
       " 'model': '../models/mistral-7b-instruct-v0.2.Q4_K_M.gguf',\n",
       " 'choices': [{'text': 'Q: Name the planets in the solar system? A: 1. Mercury - It is the smallest planet and closest to the Sun.',\n",
       "   'index': 0,\n",
       "   'logprobs': None,\n",
       "   'finish_reason': 'stop'}],\n",
       " 'usage': {'prompt_tokens': 14, 'completion_tokens': 17, 'total_tokens': 31}}"
      ]
     },
     "execution_count": 10,
     "metadata": {},
     "output_type": "execute_result"
    }
   ],
   "source": [
    "output = llm(\n",
    "    \"Q: Name the planets in the solar system? A: \",  # Prompt\n",
    "    max_tokens=32,  # Generate up to 32 tokens, set to None to generate up to the end of the context window\n",
    "    stop=[\"Q:\", \"\\n\"],  # Stop generating just before the model would generate a new question\n",
    "    echo=True,  # Echo the prompt back in the output\n",
    ")\n",
    "output"
   ]
  },
  {
   "cell_type": "code",
   "execution_count": 8,
   "id": "7f4a750d-ba16-4caf-ae51-494020ababd9",
   "metadata": {},
   "outputs": [
    {
     "name": "stderr",
     "output_type": "stream",
     "text": [
      "Llama.generate: prefix-match hit\n",
      "\n",
      "llama_print_timings:        load time =   12588.43 ms\n",
      "llama_print_timings:      sample time =      18.60 ms /    70 runs   (    0.27 ms per token,  3764.25 tokens per second)\n",
      "llama_print_timings: prompt eval time =    2811.45 ms /    22 tokens (  127.79 ms per token,     7.83 tokens per second)\n",
      "llama_print_timings:        eval time =   12806.31 ms /    69 runs   (  185.60 ms per token,     5.39 tokens per second)\n",
      "llama_print_timings:       total time =   15892.53 ms /    91 tokens\n"
     ]
    }
   ],
   "source": [
    "output = llm(\n",
    "    \"Q: Name all the planets in the solar system. Output as a JSON array of strings. A: \",  # Prompt\n",
    "    max_tokens=None,  # Generate up to 32 tokens, set to None to generate up to the end of the context window\n",
    "    # stop=[\"Q:\", \"\\n\"], # Stop generating just before the model would generate a new question\n",
    "    echo=False,  # Echo the prompt back in the output\n",
    ")\n",
    "output"
   ]
  },
  {
   "cell_type": "code",
   "execution_count": 3,
   "id": "503e8d0c",
   "metadata": {},
   "outputs": [
    {
     "name": "stderr",
     "output_type": "stream",
     "text": [
      "from_string grammar:\n",
      "root ::= foo \n",
      "foo ::= [p] [o] [s] [i] [t] [i] [v] [e] | [n] [e] [g] [a] [t] [i] [v] [e] \n",
      "\n",
      "Llama.generate: prefix-match hit\n",
      "\n",
      "llama_print_timings:        load time =    6178.23 ms\n",
      "llama_print_timings:      sample time =      23.86 ms /     3 runs   (    7.95 ms per token,   125.76 tokens per second)\n",
      "llama_print_timings: prompt eval time =       0.00 ms /     1 tokens (    0.00 ms per token,      inf tokens per second)\n",
      "llama_print_timings:        eval time =     712.60 ms /     3 runs   (  237.53 ms per token,     4.21 tokens per second)\n",
      "llama_print_timings:       total time =     758.78 ms /     4 tokens\n"
     ]
    },
    {
     "name": "stdout",
     "output_type": "stream",
     "text": [
      "Timer 0.765644485998564\n"
     ]
    },
    {
     "data": {
      "text/plain": [
       "{'id': 'cmpl-fdb21d0c-f7ca-4e11-b926-db82db561702',\n",
       " 'object': 'text_completion',\n",
       " 'created': 1708292919,\n",
       " 'model': '../models/mistral-7b-instruct-v0.2.Q4_K_M.gguf',\n",
       " 'choices': [{'text': 'positive',\n",
       "   'index': 0,\n",
       "   'logprobs': None,\n",
       "   'finish_reason': 'stop'}],\n",
       " 'usage': {'prompt_tokens': 46, 'completion_tokens': 2, 'total_tokens': 48}}"
      ]
     },
     "metadata": {},
     "output_type": "display_data"
    },
    {
     "name": "stderr",
     "output_type": "stream",
     "text": [
      "Llama.generate: prefix-match hit\n",
      "\n",
      "llama_print_timings:        load time =    6178.23 ms\n",
      "llama_print_timings:      sample time =      22.48 ms /     3 runs   (    7.49 ms per token,   133.46 tokens per second)\n",
      "llama_print_timings: prompt eval time =       0.00 ms /     1 tokens (    0.00 ms per token,      inf tokens per second)\n",
      "llama_print_timings:        eval time =     598.77 ms /     3 runs   (  199.59 ms per token,     5.01 tokens per second)\n",
      "llama_print_timings:       total time =     640.63 ms /     4 tokens\n"
     ]
    },
    {
     "name": "stdout",
     "output_type": "stream",
     "text": [
      "Timer 1.415434598999127\n"
     ]
    },
    {
     "data": {
      "text/plain": [
       "{'id': 'cmpl-39c7a54d-f734-4473-8aaf-013ed5a921c7',\n",
       " 'object': 'text_completion',\n",
       " 'created': 1708292919,\n",
       " 'model': '../models/mistral-7b-instruct-v0.2.Q4_K_M.gguf',\n",
       " 'choices': [{'text': 'positive',\n",
       "   'index': 0,\n",
       "   'logprobs': None,\n",
       "   'finish_reason': 'stop'}],\n",
       " 'usage': {'prompt_tokens': 46, 'completion_tokens': 2, 'total_tokens': 48}}"
      ]
     },
     "metadata": {},
     "output_type": "display_data"
    },
    {
     "name": "stderr",
     "output_type": "stream",
     "text": [
      "Llama.generate: prefix-match hit\n",
      "\n",
      "llama_print_timings:        load time =    6178.23 ms\n",
      "llama_print_timings:      sample time =      21.59 ms /     3 runs   (    7.20 ms per token,   138.97 tokens per second)\n",
      "llama_print_timings: prompt eval time =       0.00 ms /     1 tokens (    0.00 ms per token,      inf tokens per second)\n",
      "llama_print_timings:        eval time =     612.61 ms /     3 runs   (  204.20 ms per token,     4.90 tokens per second)\n",
      "llama_print_timings:       total time =     653.28 ms /     4 tokens\n"
     ]
    },
    {
     "name": "stdout",
     "output_type": "stream",
     "text": [
      "Timer 2.079844044999845\n"
     ]
    },
    {
     "data": {
      "text/plain": [
       "{'id': 'cmpl-55f87a57-71ca-49c4-854b-0ab60ba126ba',\n",
       " 'object': 'text_completion',\n",
       " 'created': 1708292920,\n",
       " 'model': '../models/mistral-7b-instruct-v0.2.Q4_K_M.gguf',\n",
       " 'choices': [{'text': 'positive',\n",
       "   'index': 0,\n",
       "   'logprobs': None,\n",
       "   'finish_reason': 'stop'}],\n",
       " 'usage': {'prompt_tokens': 46, 'completion_tokens': 2, 'total_tokens': 48}}"
      ]
     },
     "metadata": {},
     "output_type": "display_data"
    },
    {
     "name": "stderr",
     "output_type": "stream",
     "text": [
      "Llama.generate: prefix-match hit\n",
      "\n",
      "llama_print_timings:        load time =    6178.23 ms\n",
      "llama_print_timings:      sample time =      22.11 ms /     3 runs   (    7.37 ms per token,   135.70 tokens per second)\n",
      "llama_print_timings: prompt eval time =       0.00 ms /     1 tokens (    0.00 ms per token,      inf tokens per second)\n",
      "llama_print_timings:        eval time =     662.24 ms /     3 runs   (  220.75 ms per token,     4.53 tokens per second)\n",
      "llama_print_timings:       total time =     702.67 ms /     4 tokens\n"
     ]
    },
    {
     "name": "stdout",
     "output_type": "stream",
     "text": [
      "Timer 2.792519167000137\n"
     ]
    },
    {
     "data": {
      "text/plain": [
       "{'id': 'cmpl-3a8ff9d2-6133-4de8-8487-b682bad2ba88',\n",
       " 'object': 'text_completion',\n",
       " 'created': 1708292921,\n",
       " 'model': '../models/mistral-7b-instruct-v0.2.Q4_K_M.gguf',\n",
       " 'choices': [{'text': 'positive',\n",
       "   'index': 0,\n",
       "   'logprobs': None,\n",
       "   'finish_reason': 'stop'}],\n",
       " 'usage': {'prompt_tokens': 46, 'completion_tokens': 2, 'total_tokens': 48}}"
      ]
     },
     "metadata": {},
     "output_type": "display_data"
    },
    {
     "name": "stderr",
     "output_type": "stream",
     "text": [
      "Llama.generate: prefix-match hit\n",
      "\n",
      "llama_print_timings:        load time =    6178.23 ms\n",
      "llama_print_timings:      sample time =      22.56 ms /     3 runs   (    7.52 ms per token,   132.99 tokens per second)\n",
      "llama_print_timings: prompt eval time =       0.00 ms /     1 tokens (    0.00 ms per token,      inf tokens per second)\n",
      "llama_print_timings:        eval time =     630.84 ms /     3 runs   (  210.28 ms per token,     4.76 tokens per second)\n",
      "llama_print_timings:       total time =     672.23 ms /     4 tokens\n"
     ]
    },
    {
     "name": "stdout",
     "output_type": "stream",
     "text": [
      "Timer 3.4766245529990556\n"
     ]
    },
    {
     "data": {
      "text/plain": [
       "{'id': 'cmpl-d3c590b5-9afb-4677-bfd4-4318df66cbce',\n",
       " 'object': 'text_completion',\n",
       " 'created': 1708292921,\n",
       " 'model': '../models/mistral-7b-instruct-v0.2.Q4_K_M.gguf',\n",
       " 'choices': [{'text': 'positive',\n",
       "   'index': 0,\n",
       "   'logprobs': None,\n",
       "   'finish_reason': 'stop'}],\n",
       " 'usage': {'prompt_tokens': 46, 'completion_tokens': 2, 'total_tokens': 48}}"
      ]
     },
     "metadata": {},
     "output_type": "display_data"
    }
   ],
   "source": [
    "from timeit import default_timer as timer\n",
    "\n",
    "from IPython.display import display\n",
    "from llama_cpp.llama import LlamaGrammar\n",
    "\n",
    "prompt = \"\"\"You are a sentiment-labelling assistant.\n",
    "Is the following review positive or negative? Just answer with \"positive\" or \"negative\".\n",
    "Review: I really loved the new restaurant downtown.\n",
    "Answer:\n",
    "\"\"\"\n",
    "\n",
    "grammar = LlamaGrammar.from_string(\n",
    "    r\"\"\"\n",
    "    root ::= foo\n",
    "    foo ::= \"positive\" | \"negative\"\n",
    "\"\"\"\n",
    ")\n",
    "\n",
    "start = timer()\n",
    "\n",
    "for _ in range(5):\n",
    "    output = llm(prompt, max_tokens=32, stop=[\"Review:\", \"\\n\"], echo=False, grammar=grammar)\n",
    "    print(\"Timer\", timer() - start)\n",
    "    display(output)"
   ]
  },
  {
   "cell_type": "code",
   "execution_count": 4,
   "id": "d70d2b1e",
   "metadata": {},
   "outputs": [
    {
     "name": "stderr",
     "output_type": "stream",
     "text": [
      "from_string grammar:\n",
      "root ::= foo \n",
      "foo ::= [p] [o] [s] [i] [t] [i] [v] [e] | [n] [e] [g] [a] [t] [i] [v] [e] \n",
      "\n",
      "Llama.generate: prefix-match hit\n",
      "\n",
      "llama_print_timings:        load time =    6178.23 ms\n",
      "llama_print_timings:      sample time =      14.31 ms /     2 runs   (    7.16 ms per token,   139.74 tokens per second)\n",
      "llama_print_timings: prompt eval time =    2150.69 ms /    15 tokens (  143.38 ms per token,     6.97 tokens per second)\n",
      "llama_print_timings:        eval time =     187.00 ms /     1 runs   (  187.00 ms per token,     5.35 tokens per second)\n",
      "llama_print_timings:       total time =    2363.42 ms /    16 tokens\n"
     ]
    },
    {
     "name": "stdout",
     "output_type": "stream",
     "text": [
      "Timer 2.3745362869995006\n"
     ]
    },
    {
     "data": {
      "text/plain": [
       "{'id': 'cmpl-fd6c2654-0898-4e76-bcad-421096c28735',\n",
       " 'object': 'text_completion',\n",
       " 'created': 1708292982,\n",
       " 'model': '../models/mistral-7b-instruct-v0.2.Q4_K_M.gguf',\n",
       " 'choices': [{'text': 'negative',\n",
       "   'index': 0,\n",
       "   'logprobs': None,\n",
       "   'finish_reason': 'stop'}],\n",
       " 'usage': {'prompt_tokens': 48, 'completion_tokens': 1, 'total_tokens': 49}}"
      ]
     },
     "metadata": {},
     "output_type": "display_data"
    },
    {
     "name": "stderr",
     "output_type": "stream",
     "text": [
      "Llama.generate: prefix-match hit\n",
      "\n",
      "llama_print_timings:        load time =    6178.23 ms\n",
      "llama_print_timings:      sample time =      15.95 ms /     2 runs   (    7.98 ms per token,   125.38 tokens per second)\n",
      "llama_print_timings: prompt eval time =       0.00 ms /     1 tokens (    0.00 ms per token,      inf tokens per second)\n",
      "llama_print_timings:        eval time =     544.93 ms /     2 runs   (  272.47 ms per token,     3.67 tokens per second)\n",
      "llama_print_timings:       total time =     573.52 ms /     3 tokens\n"
     ]
    },
    {
     "name": "stdout",
     "output_type": "stream",
     "text": [
      "Timer 2.95775336800034\n"
     ]
    },
    {
     "data": {
      "text/plain": [
       "{'id': 'cmpl-1be1ac69-a304-468f-be01-bbb36036aa7a',\n",
       " 'object': 'text_completion',\n",
       " 'created': 1708292985,\n",
       " 'model': '../models/mistral-7b-instruct-v0.2.Q4_K_M.gguf',\n",
       " 'choices': [{'text': 'negative',\n",
       "   'index': 0,\n",
       "   'logprobs': None,\n",
       "   'finish_reason': 'stop'}],\n",
       " 'usage': {'prompt_tokens': 48, 'completion_tokens': 1, 'total_tokens': 49}}"
      ]
     },
     "metadata": {},
     "output_type": "display_data"
    },
    {
     "name": "stderr",
     "output_type": "stream",
     "text": [
      "Llama.generate: prefix-match hit\n",
      "\n",
      "llama_print_timings:        load time =    6178.23 ms\n",
      "llama_print_timings:      sample time =      17.69 ms /     2 runs   (    8.84 ms per token,   113.06 tokens per second)\n",
      "llama_print_timings: prompt eval time =       0.00 ms /     1 tokens (    0.00 ms per token,      inf tokens per second)\n",
      "llama_print_timings:        eval time =     387.90 ms /     2 runs   (  193.95 ms per token,     5.16 tokens per second)\n",
      "llama_print_timings:       total time =     416.46 ms /     3 tokens\n"
     ]
    },
    {
     "name": "stdout",
     "output_type": "stream",
     "text": [
      "Timer 3.3860886769998615\n"
     ]
    },
    {
     "data": {
      "text/plain": [
       "{'id': 'cmpl-5920f863-282a-4811-8ac2-8ed16224641e',\n",
       " 'object': 'text_completion',\n",
       " 'created': 1708292985,\n",
       " 'model': '../models/mistral-7b-instruct-v0.2.Q4_K_M.gguf',\n",
       " 'choices': [{'text': 'negative',\n",
       "   'index': 0,\n",
       "   'logprobs': None,\n",
       "   'finish_reason': 'stop'}],\n",
       " 'usage': {'prompt_tokens': 48, 'completion_tokens': 1, 'total_tokens': 49}}"
      ]
     },
     "metadata": {},
     "output_type": "display_data"
    },
    {
     "name": "stderr",
     "output_type": "stream",
     "text": [
      "Llama.generate: prefix-match hit\n",
      "\n",
      "llama_print_timings:        load time =    6178.23 ms\n",
      "llama_print_timings:      sample time =      14.08 ms /     2 runs   (    7.04 ms per token,   142.07 tokens per second)\n",
      "llama_print_timings: prompt eval time =       0.00 ms /     1 tokens (    0.00 ms per token,      inf tokens per second)\n",
      "llama_print_timings:        eval time =     439.46 ms /     2 runs   (  219.73 ms per token,     4.55 tokens per second)\n",
      "llama_print_timings:       total time =     463.38 ms /     3 tokens\n"
     ]
    },
    {
     "name": "stdout",
     "output_type": "stream",
     "text": [
      "Timer 3.860567767000248\n"
     ]
    },
    {
     "data": {
      "text/plain": [
       "{'id': 'cmpl-6ec2501d-6af5-45bc-a50c-505ff17eb294',\n",
       " 'object': 'text_completion',\n",
       " 'created': 1708292986,\n",
       " 'model': '../models/mistral-7b-instruct-v0.2.Q4_K_M.gguf',\n",
       " 'choices': [{'text': 'negative',\n",
       "   'index': 0,\n",
       "   'logprobs': None,\n",
       "   'finish_reason': 'stop'}],\n",
       " 'usage': {'prompt_tokens': 48, 'completion_tokens': 1, 'total_tokens': 49}}"
      ]
     },
     "metadata": {},
     "output_type": "display_data"
    },
    {
     "name": "stderr",
     "output_type": "stream",
     "text": [
      "Llama.generate: prefix-match hit\n",
      "\n",
      "llama_print_timings:        load time =    6178.23 ms\n",
      "llama_print_timings:      sample time =      15.16 ms /     2 runs   (    7.58 ms per token,   131.93 tokens per second)\n",
      "llama_print_timings: prompt eval time =       0.00 ms /     1 tokens (    0.00 ms per token,      inf tokens per second)\n",
      "llama_print_timings:        eval time =     432.06 ms /     2 runs   (  216.03 ms per token,     4.63 tokens per second)\n",
      "llama_print_timings:       total time =     458.56 ms /     3 tokens\n"
     ]
    },
    {
     "name": "stdout",
     "output_type": "stream",
     "text": [
      "Timer 4.328508075999707\n"
     ]
    },
    {
     "data": {
      "text/plain": [
       "{'id': 'cmpl-81c81655-62e9-42b2-a7b1-118b9c898e06',\n",
       " 'object': 'text_completion',\n",
       " 'created': 1708292986,\n",
       " 'model': '../models/mistral-7b-instruct-v0.2.Q4_K_M.gguf',\n",
       " 'choices': [{'text': 'negative',\n",
       "   'index': 0,\n",
       "   'logprobs': None,\n",
       "   'finish_reason': 'stop'}],\n",
       " 'usage': {'prompt_tokens': 48, 'completion_tokens': 1, 'total_tokens': 49}}"
      ]
     },
     "metadata": {},
     "output_type": "display_data"
    }
   ],
   "source": [
    "prompt = \"\"\"You are a sentiment-labelling assistant.\n",
    "Is the following review positive or negative? Just answer with \"positive\" or \"negative\".\n",
    "Review: The meals where all trash in this restaurant downtown.\n",
    "Answer:\n",
    "\"\"\"\n",
    "\n",
    "grammar = LlamaGrammar.from_string(\n",
    "    r\"\"\"\n",
    "    root ::= foo\n",
    "    foo ::= \"positive\" | \"negative\"\n",
    "\"\"\"\n",
    ")\n",
    "\n",
    "start = timer()\n",
    "\n",
    "for _ in range(5):\n",
    "    output = llm(prompt, max_tokens=32, stop=[\"Review:\", \"\\n\"], echo=False, grammar=grammar)\n",
    "    print(\"Timer\", timer() - start)\n",
    "    display(output)"
   ]
  }
 ],
 "metadata": {
  "kernelspec": {
   "display_name": "Python 3 (ipykernel)",
   "language": "python",
   "name": "python3"
  },
  "language_info": {
   "codemirror_mode": {
    "name": "ipython",
    "version": 3
   },
   "file_extension": ".py",
   "mimetype": "text/x-python",
   "name": "python",
   "nbconvert_exporter": "python",
   "pygments_lexer": "ipython3",
   "version": "3.12.1"
  }
 },
 "nbformat": 4,
 "nbformat_minor": 5
}
