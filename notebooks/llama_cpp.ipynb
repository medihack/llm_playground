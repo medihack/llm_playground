{
 "cells": [
  {
   "cell_type": "code",
   "execution_count": 1,
   "id": "d1e3d74f-2651-40da-825a-65bddfba89d4",
   "metadata": {},
   "outputs": [
    {
     "name": "stderr",
     "output_type": "stream",
     "text": [
      "llama_model_loader: loaded meta data with 24 key-value pairs and 291 tensors from ../models/mistral-7b-instruct-v0.2.Q4_K_M.gguf (version GGUF V3 (latest))\n",
      "llama_model_loader: Dumping metadata keys/values. Note: KV overrides do not apply in this output.\n",
      "llama_model_loader: - kv   0:                       general.architecture str              = llama\n",
      "llama_model_loader: - kv   1:                               general.name str              = mistralai_mistral-7b-instruct-v0.2\n",
      "llama_model_loader: - kv   2:                       llama.context_length u32              = 32768\n",
      "llama_model_loader: - kv   3:                     llama.embedding_length u32              = 4096\n",
      "llama_model_loader: - kv   4:                          llama.block_count u32              = 32\n",
      "llama_model_loader: - kv   5:                  llama.feed_forward_length u32              = 14336\n",
      "llama_model_loader: - kv   6:                 llama.rope.dimension_count u32              = 128\n",
      "llama_model_loader: - kv   7:                 llama.attention.head_count u32              = 32\n",
      "llama_model_loader: - kv   8:              llama.attention.head_count_kv u32              = 8\n",
      "llama_model_loader: - kv   9:     llama.attention.layer_norm_rms_epsilon f32              = 0.000010\n",
      "llama_model_loader: - kv  10:                       llama.rope.freq_base f32              = 1000000.000000\n",
      "llama_model_loader: - kv  11:                          general.file_type u32              = 15\n",
      "llama_model_loader: - kv  12:                       tokenizer.ggml.model str              = llama\n",
      "llama_model_loader: - kv  13:                      tokenizer.ggml.tokens arr[str,32000]   = [\"<unk>\", \"<s>\", \"</s>\", \"<0x00>\", \"<...\n",
      "llama_model_loader: - kv  14:                      tokenizer.ggml.scores arr[f32,32000]   = [0.000000, 0.000000, 0.000000, 0.0000...\n",
      "llama_model_loader: - kv  15:                  tokenizer.ggml.token_type arr[i32,32000]   = [2, 3, 3, 6, 6, 6, 6, 6, 6, 6, 6, 6, ...\n",
      "llama_model_loader: - kv  16:                tokenizer.ggml.bos_token_id u32              = 1\n",
      "llama_model_loader: - kv  17:                tokenizer.ggml.eos_token_id u32              = 2\n",
      "llama_model_loader: - kv  18:            tokenizer.ggml.unknown_token_id u32              = 0\n",
      "llama_model_loader: - kv  19:            tokenizer.ggml.padding_token_id u32              = 0\n",
      "llama_model_loader: - kv  20:               tokenizer.ggml.add_bos_token bool             = true\n",
      "llama_model_loader: - kv  21:               tokenizer.ggml.add_eos_token bool             = false\n",
      "llama_model_loader: - kv  22:                    tokenizer.chat_template str              = {{ bos_token }}{% for message in mess...\n",
      "llama_model_loader: - kv  23:               general.quantization_version u32              = 2\n",
      "llama_model_loader: - type  f32:   65 tensors\n",
      "llama_model_loader: - type q4_K:  193 tensors\n",
      "llama_model_loader: - type q6_K:   33 tensors\n",
      "llm_load_vocab: special tokens definition check successful ( 259/32000 ).\n",
      "llm_load_print_meta: format           = GGUF V3 (latest)\n",
      "llm_load_print_meta: arch             = llama\n",
      "llm_load_print_meta: vocab type       = SPM\n",
      "llm_load_print_meta: n_vocab          = 32000\n",
      "llm_load_print_meta: n_merges         = 0\n",
      "llm_load_print_meta: n_ctx_train      = 32768\n",
      "llm_load_print_meta: n_embd           = 4096\n",
      "llm_load_print_meta: n_head           = 32\n",
      "llm_load_print_meta: n_head_kv        = 8\n",
      "llm_load_print_meta: n_layer          = 32\n",
      "llm_load_print_meta: n_rot            = 128\n",
      "llm_load_print_meta: n_embd_head_k    = 128\n",
      "llm_load_print_meta: n_embd_head_v    = 128\n",
      "llm_load_print_meta: n_gqa            = 4\n",
      "llm_load_print_meta: n_embd_k_gqa     = 1024\n",
      "llm_load_print_meta: n_embd_v_gqa     = 1024\n",
      "llm_load_print_meta: f_norm_eps       = 0.0e+00\n",
      "llm_load_print_meta: f_norm_rms_eps   = 1.0e-05\n",
      "llm_load_print_meta: f_clamp_kqv      = 0.0e+00\n",
      "llm_load_print_meta: f_max_alibi_bias = 0.0e+00\n",
      "llm_load_print_meta: n_ff             = 14336\n",
      "llm_load_print_meta: n_expert         = 0\n",
      "llm_load_print_meta: n_expert_used    = 0\n",
      "llm_load_print_meta: rope scaling     = linear\n",
      "llm_load_print_meta: freq_base_train  = 1000000.0\n",
      "llm_load_print_meta: freq_scale_train = 1\n",
      "llm_load_print_meta: n_yarn_orig_ctx  = 32768\n",
      "llm_load_print_meta: rope_finetuned   = unknown\n",
      "llm_load_print_meta: model type       = 7B\n",
      "llm_load_print_meta: model ftype      = Q4_K - Medium\n",
      "llm_load_print_meta: model params     = 7.24 B\n",
      "llm_load_print_meta: model size       = 4.07 GiB (4.83 BPW) \n",
      "llm_load_print_meta: general.name     = mistralai_mistral-7b-instruct-v0.2\n",
      "llm_load_print_meta: BOS token        = 1 '<s>'\n",
      "llm_load_print_meta: EOS token        = 2 '</s>'\n",
      "llm_load_print_meta: UNK token        = 0 '<unk>'\n",
      "llm_load_print_meta: PAD token        = 0 '<unk>'\n",
      "llm_load_print_meta: LF token         = 13 '<0x0A>'\n",
      "llm_load_tensors: ggml ctx size =    0.11 MiB\n",
      "llm_load_tensors:        CPU buffer size =  4165.37 MiB\n",
      "...............................................................................................\n",
      "llama_new_context_with_model: n_ctx      = 512\n",
      "llama_new_context_with_model: freq_base  = 1000000.0\n",
      "llama_new_context_with_model: freq_scale = 1\n",
      "llama_kv_cache_init:        CPU KV buffer size =    64.00 MiB\n",
      "llama_new_context_with_model: KV self size  =   64.00 MiB, K (f16):   32.00 MiB, V (f16):   32.00 MiB\n",
      "llama_new_context_with_model:        CPU input buffer size   =    10.01 MiB\n",
      "llama_new_context_with_model:        CPU compute buffer size =    72.00 MiB\n",
      "llama_new_context_with_model: graph splits (measure): 1\n",
      "AVX = 1 | AVX_VNNI = 1 | AVX2 = 1 | AVX512 = 0 | AVX512_VBMI = 0 | AVX512_VNNI = 0 | FMA = 1 | NEON = 0 | ARM_FMA = 0 | F16C = 1 | FP16_VA = 0 | WASM_SIMD = 0 | BLAS = 0 | SSE3 = 1 | SSSE3 = 1 | VSX = 0 | MATMUL_INT8 = 0 | \n",
      "Model metadata: {'tokenizer.chat_template': \"{{ bos_token }}{% for message in messages %}{% if (message['role'] == 'user') != (loop.index0 % 2 == 0) %}{{ raise_exception('Conversation roles must alternate user/assistant/user/assistant/...') }}{% endif %}{% if message['role'] == 'user' %}{{ '[INST] ' + message['content'] + ' [/INST]' }}{% elif message['role'] == 'assistant' %}{{ message['content'] + eos_token}}{% else %}{{ raise_exception('Only user and assistant roles are supported!') }}{% endif %}{% endfor %}\", 'tokenizer.ggml.add_eos_token': 'false', 'tokenizer.ggml.padding_token_id': '0', 'tokenizer.ggml.unknown_token_id': '0', 'tokenizer.ggml.eos_token_id': '2', 'general.architecture': 'llama', 'llama.rope.freq_base': '1000000.000000', 'llama.context_length': '32768', 'general.name': 'mistralai_mistral-7b-instruct-v0.2', 'tokenizer.ggml.add_bos_token': 'true', 'llama.embedding_length': '4096', 'llama.feed_forward_length': '14336', 'llama.attention.layer_norm_rms_epsilon': '0.000010', 'llama.rope.dimension_count': '128', 'tokenizer.ggml.bos_token_id': '1', 'llama.attention.head_count': '32', 'llama.block_count': '32', 'llama.attention.head_count_kv': '8', 'general.quantization_version': '2', 'tokenizer.ggml.model': 'llama', 'general.file_type': '15'}\n",
      "Using chat template: {{ bos_token }}{% for message in messages %}{% if (message['role'] == 'user') != (loop.index0 % 2 == 0) %}{{ raise_exception('Conversation roles must alternate user/assistant/user/assistant/...') }}{% endif %}{% if message['role'] == 'user' %}{{ '[INST] ' + message['content'] + ' [/INST]' }}{% elif message['role'] == 'assistant' %}{{ message['content'] + eos_token}}{% else %}{{ raise_exception('Only user and assistant roles are supported!') }}{% endif %}{% endfor %}\n",
      "Using chat eos_token: \n",
      "Using chat bos_token: \n",
      "from_string grammar:\n",
      "root ::= Antwort \n",
      "Antwort ::= [J] [a] | [N] [e] [i] [n] | [U] [n] [k] [l] [a] [r] \n",
      "\n"
     ]
    }
   ],
   "source": [
    "from llama_cpp import Llama\n",
    "from llama_cpp.llama import LlamaGrammar\n",
    "\n",
    "llm = Llama(model_path=\"../models/mistral-7b-instruct-v0.2.Q4_K_M.gguf\")\n",
    "\n",
    "grammar = LlamaGrammar.from_string(\n",
    "    \"\"\"\n",
    "    root ::= Antwort\n",
    "    Antwort ::= \"Ja\" | \"Nein\" | \"Unklar\"\n",
    "    \"\"\"\n",
    ")\n",
    "\n",
    "\n",
    "def generate_prompt(report: str) -> str:\n",
    "    return f\"\"\"\n",
    "    Du bist ein radiologischer Facharzt. Ich gebe dir einen radiologischen Befund.\n",
    "    Bitte beantworte eine Frage zu diesem Befund. Wenn zur der Frage nichts im Befund steht,\n",
    "    dann antworte mit \"Unklar\". Ansonsten mit \"Ja\" oder \"Nein\".\n",
    "    Befund: {report}\n",
    "    Frage: LAE ist ein Synonym für Lungenarterienembolie. Hat der Patient eine Lungenarterienembolie?\n",
    "    Antwort:\n",
    "    \"\"\"\n",
    "\n",
    "\n",
    "def execute_llm(prompt: str):\n",
    "    return llm(\n",
    "        prompt,\n",
    "        # max_tokens=32,  # Generate up to 32 tokens, set to None to generate up to the end of the context window\n",
    "        # stop=[\"Frage:\", \"\\n\"],  # Stop generating just before the model would generate a new question\n",
    "        echo=False,  # Echo the prompt back in the output\n",
    "        grammar=grammar,  # Use the defined grammar\n",
    "    )"
   ]
  },
  {
   "cell_type": "code",
   "execution_count": 2,
   "id": "3aca9e66",
   "metadata": {},
   "outputs": [
    {
     "name": "stderr",
     "output_type": "stream",
     "text": [
      "\n",
      "llama_print_timings:        load time =   38694.09 ms\n",
      "llama_print_timings:      sample time =      18.27 ms /     3 runs   (    6.09 ms per token,   164.19 tokens per second)\n",
      "llama_print_timings: prompt eval time =   38693.07 ms /   372 tokens (  104.01 ms per token,     9.61 tokens per second)\n",
      "llama_print_timings:        eval time =     344.43 ms /     2 runs   (  172.21 ms per token,     5.81 tokens per second)\n",
      "llama_print_timings:       total time =   39070.84 ms /   374 tokens\n"
     ]
    },
    {
     "data": {
      "text/plain": [
       "{'id': 'cmpl-06cc2c01-6243-4cce-8f4f-6b191daaef4d',\n",
       " 'object': 'text_completion',\n",
       " 'created': 1709575050,\n",
       " 'model': '../models/mistral-7b-instruct-v0.2.Q4_K_M.gguf',\n",
       " 'choices': [{'text': 'Ja',\n",
       "   'index': 0,\n",
       "   'logprobs': None,\n",
       "   'finish_reason': 'stop'}],\n",
       " 'usage': {'prompt_tokens': 372, 'completion_tokens': 2, 'total_tokens': 374}}"
      ]
     },
     "execution_count": 2,
     "metadata": {},
     "output_type": "execute_result"
    }
   ],
   "source": [
    "prompt = generate_prompt(\n",
    "    \"\"\"\n",
    "    Keine VA zum Vergleich vorhanden.\n",
    "\n",
    "    Keine intrapulmonalen Lungenrundherde. Keine pneumonischen Infiltrate. Geringer Pleuraerguss rechts\n",
    "    mit Saumbreite bis 5 mm. Kein Erguss links. Kein Pneumothorax.\n",
    "    Kleine, periphere LAE im rechten Unterlappen (TP -1288). Restliche Lungenarterien\n",
    "    regelrecht kontrastiert. Keine pathologisch vergrößerter Lymphknoten. Dezenter basaler\n",
    "    Perikarderguss.\n",
    "    Kleine Leberzyste im Segment 8. Restlichen OBB Organe unauffällig.\n",
    "    Moderate degenerative Veränderungen der Wirbelsäule. Keine suspekten Knochenläsionen.\n",
    "\n",
    "    Beurteilung:\n",
    "    Kleine periphere LAE im rechten UL.\n",
    "    Geringer Pleuraerguss rechts.\n",
    "    \"\"\"\n",
    ")\n",
    "\n",
    "execute_llm(prompt)"
   ]
  },
  {
   "cell_type": "code",
   "execution_count": 3,
   "id": "24a3a695",
   "metadata": {},
   "outputs": [
    {
     "name": "stderr",
     "output_type": "stream",
     "text": [
      "Llama.generate: prefix-match hit\n",
      "\n",
      "llama_print_timings:        load time =   38694.09 ms\n",
      "llama_print_timings:      sample time =      15.87 ms /     3 runs   (    5.29 ms per token,   189.02 tokens per second)\n",
      "llama_print_timings: prompt eval time =   17502.58 ms /   159 tokens (  110.08 ms per token,     9.08 tokens per second)\n",
      "llama_print_timings:        eval time =     318.43 ms /     2 runs   (  159.22 ms per token,     6.28 tokens per second)\n",
      "llama_print_timings:       total time =   17849.35 ms /   161 tokens\n"
     ]
    },
    {
     "data": {
      "text/plain": [
       "{'id': 'cmpl-e1f6db34-2bc6-431e-93e6-918989dfd586',\n",
       " 'object': 'text_completion',\n",
       " 'created': 1709575089,\n",
       " 'model': '../models/mistral-7b-instruct-v0.2.Q4_K_M.gguf',\n",
       " 'choices': [{'text': 'Nein',\n",
       "   'index': 0,\n",
       "   'logprobs': None,\n",
       "   'finish_reason': 'stop'}],\n",
       " 'usage': {'prompt_tokens': 328, 'completion_tokens': 2, 'total_tokens': 330}}"
      ]
     },
     "execution_count": 3,
     "metadata": {},
     "output_type": "execute_result"
    }
   ],
   "source": [
    "prompt = generate_prompt(\n",
    "    \"\"\"\n",
    "    Keine VA zum Vergleich vorhanden.\n",
    "\n",
    "    Keine intrapulmonalen Lungenrundherde. Keine pneumonischen Infiltrate. Geringer Pleuraerguss rechts\n",
    "    mit Saumbreite bis 5 mm. Kein Erguss links. Kein Pneumothorax.\n",
    "    Kein Nachweis einer LAE. Keine pathologisch vergrößerter Lymphknoten. Dezenter\n",
    "    basaler Perikarderguss.\n",
    "    Kleine Leberzyste im Segment 8. Restlichen OBB Organe unauffällig.\n",
    "    Moderate degenerative Veränderungen der Wirbelsäule. Keine suspekten Knochenläsionen.\n",
    "\n",
    "    Beurteilung:\n",
    "    Geringer Pleuraerguss rechts.\n",
    "    \"\"\"\n",
    ")\n",
    "\n",
    "execute_llm(prompt)"
   ]
  },
  {
   "cell_type": "code",
   "execution_count": 26,
   "id": "aaacbb11",
   "metadata": {},
   "outputs": [
    {
     "name": "stderr",
     "output_type": "stream",
     "text": [
      "Llama.generate: prefix-match hit\n",
      "\n",
      "llama_print_timings:        load time =   38694.09 ms\n",
      "llama_print_timings:      sample time =      23.90 ms /     4 runs   (    5.98 ms per token,   167.36 tokens per second)\n",
      "llama_print_timings: prompt eval time =       0.00 ms /     1 tokens (    0.00 ms per token,      inf tokens per second)\n",
      "llama_print_timings:        eval time =     728.88 ms /     4 runs   (  182.22 ms per token,     5.49 tokens per second)\n",
      "llama_print_timings:       total time =     773.23 ms /     5 tokens\n"
     ]
    },
    {
     "data": {
      "text/plain": [
       "{'id': 'cmpl-70b7a9ca-28cc-44f3-83fd-38f7265ae5ff',\n",
       " 'object': 'text_completion',\n",
       " 'created': 1709575151,\n",
       " 'model': '../models/mistral-7b-instruct-v0.2.Q4_K_M.gguf',\n",
       " 'choices': [{'text': 'Unklar',\n",
       "   'index': 0,\n",
       "   'logprobs': None,\n",
       "   'finish_reason': 'stop'}],\n",
       " 'usage': {'prompt_tokens': 216, 'completion_tokens': 3, 'total_tokens': 219}}"
      ]
     },
     "execution_count": 26,
     "metadata": {},
     "output_type": "execute_result"
    }
   ],
   "source": [
    "prompt = generate_prompt(\n",
    "    \"\"\"\n",
    "    Keine Voraufnahmen zum Vergleich.\n",
    "\n",
    "    Aufgeweitete Dick- und Dünndarmschlingen mit Spiegelbildungen, insgesamt einem Ileusbild\n",
    "    entsprechend. Kein Nachweis von freier Luft. Leichte Ergüsse im miterfassten basalen\n",
    "    Thorax.\n",
    "    \"\"\"\n",
    ")\n",
    "\n",
    "execute_llm(prompt)"
   ]
  }
 ],
 "metadata": {
  "kernelspec": {
   "display_name": "Python 3 (ipykernel)",
   "language": "python",
   "name": "python3"
  },
  "language_info": {
   "codemirror_mode": {
    "name": "ipython",
    "version": 3
   },
   "file_extension": ".py",
   "mimetype": "text/x-python",
   "name": "python",
   "nbconvert_exporter": "python",
   "pygments_lexer": "ipython3",
   "version": "3.12.1"
  }
 },
 "nbformat": 4,
 "nbformat_minor": 5
}
