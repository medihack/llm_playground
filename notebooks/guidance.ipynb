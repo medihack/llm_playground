{
 "cells": [
  {
   "cell_type": "code",
   "execution_count": 1,
   "metadata": {},
   "outputs": [
    {
     "ename": "AttributeError",
     "evalue": "'LlamaTokenizer' object has no attribute 'llama'",
     "output_type": "error",
     "traceback": [
      "\u001b[0;31m---------------------------------------------------------------------------\u001b[0m",
      "\u001b[0;31mAttributeError\u001b[0m                            Traceback (most recent call last)",
      "Cell \u001b[0;32mIn[1], line 4\u001b[0m\n\u001b[1;32m      1\u001b[0m \u001b[38;5;28;01mfrom\u001b[39;00m \u001b[38;5;21;01mguidance\u001b[39;00m \u001b[38;5;28;01mimport\u001b[39;00m models, gen\n\u001b[1;32m      3\u001b[0m \u001b[38;5;66;03m# load a model (could be Transformers, LlamaCpp, VertexAI, OpenAI...)\u001b[39;00m\n\u001b[0;32m----> 4\u001b[0m llama2 \u001b[38;5;241m=\u001b[39m \u001b[43mmodels\u001b[49m\u001b[38;5;241;43m.\u001b[39;49m\u001b[43mLlamaCpp\u001b[49m\u001b[43m(\u001b[49m\u001b[38;5;124;43m\"\u001b[39;49m\u001b[38;5;124;43m./mistral-7b-instruct-v0.2.Q4_K_M.gguf\u001b[39;49m\u001b[38;5;124;43m\"\u001b[39;49m\u001b[43m)\u001b[49m \n\u001b[1;32m      6\u001b[0m \u001b[38;5;66;03m# append text or generations to the model\u001b[39;00m\n\u001b[1;32m      7\u001b[0m llama2 \u001b[38;5;241m+\u001b[39m \u001b[38;5;124mf\u001b[39m\u001b[38;5;124m'\u001b[39m\u001b[38;5;124mDo you want a joke or a poem? \u001b[39m\u001b[38;5;124m'\u001b[39m \u001b[38;5;241m+\u001b[39m gen(stop\u001b[38;5;241m=\u001b[39m\u001b[38;5;124m'\u001b[39m\u001b[38;5;124m.\u001b[39m\u001b[38;5;124m'\u001b[39m)\n",
      "File \u001b[0;32m~/.cache/pypoetry/virtualenvs/llm-iFAQlUps-py3.12/lib/python3.12/site-packages/guidance/models/llama_cpp/_llama_cpp.py:82\u001b[0m, in \u001b[0;36mLlamaCpp.__init__\u001b[0;34m(self, model, tokenizer, echo, compute_log_probs, caching, temperature, **kwargs)\u001b[0m\n\u001b[1;32m     79\u001b[0m     \u001b[38;5;28;01mraise\u001b[39;00m \u001b[38;5;167;01mTypeError\u001b[39;00m(\u001b[38;5;124m\"\u001b[39m\u001b[38;5;124mtokenizer must be None or a llama_cpp.LlamaTokenizer object.\u001b[39m\u001b[38;5;124m\"\u001b[39m)\n\u001b[1;32m     80\u001b[0m \u001b[38;5;28mself\u001b[39m\u001b[38;5;241m.\u001b[39m_orig_tokenizer \u001b[38;5;241m=\u001b[39m tokenizer\n\u001b[0;32m---> 82\u001b[0m \u001b[38;5;28mself\u001b[39m\u001b[38;5;241m.\u001b[39m_n_vocab \u001b[38;5;241m=\u001b[39m \u001b[43mtokenizer\u001b[49m\u001b[38;5;241;43m.\u001b[39;49m\u001b[43mllama\u001b[49m\u001b[38;5;241m.\u001b[39mn_vocab()\n\u001b[1;32m     83\u001b[0m \u001b[38;5;28mself\u001b[39m\u001b[38;5;241m.\u001b[39mcaching \u001b[38;5;241m=\u001b[39m caching\n\u001b[1;32m     84\u001b[0m \u001b[38;5;28mself\u001b[39m\u001b[38;5;241m.\u001b[39mtemperature \u001b[38;5;241m=\u001b[39m temperature\n",
      "\u001b[0;31mAttributeError\u001b[0m: 'LlamaTokenizer' object has no attribute 'llama'"
     ]
    }
   ],
   "source": [
    "# Broken as Guidance currently not compatible with latest llama-cpp-python\n",
    "\n",
    "from guidance import gen, models\n",
    "\n",
    "# load a model (could be Transformers, LlamaCpp, VertexAI, OpenAI...)\n",
    "llama2 = models.LlamaCpp(\"../models/mistral-7b-instruct-v0.2.Q4_K_M.gguf\")\n",
    "\n",
    "# append text or generations to the model\n",
    "llama2 + \"Do you want a joke or a poem? \" + gen(stop=\".\")"
   ]
  }
 ],
 "metadata": {
  "kernelspec": {
   "display_name": "llm-iFAQlUps-py3.12",
   "language": "python",
   "name": "python3"
  },
  "language_info": {
   "codemirror_mode": {
    "name": "ipython",
    "version": 3
   },
   "file_extension": ".py",
   "mimetype": "text/x-python",
   "name": "python",
   "nbconvert_exporter": "python",
   "pygments_lexer": "ipython3",
   "version": "3.12.1"
  }
 },
 "nbformat": 4,
 "nbformat_minor": 2
}
