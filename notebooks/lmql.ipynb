{
 "cells": [
  {
   "cell_type": "code",
   "execution_count": 1,
   "metadata": {},
   "outputs": [
    {
     "name": "stderr",
     "output_type": "stream",
     "text": [
      "/home/kai/workspace/llm/.venv/lib/python3.12/site-packages/lmql/ops/token_set.py:133: SyntaxWarning: invalid escape sequence '\\ '\n",
      "  t = (\"prefix \" if prefix else \"\") + (\"* \\ \" if minus else \"\") + \"|\".join(sorted(list(tokens)))\n",
      "/home/kai/workspace/llm/.venv/lib/python3.12/site-packages/lmql/ops/token_set.py:239: SyntaxWarning: invalid escape sequence '\\ '\n",
      "  prefix = \"* \\ \"\n",
      "/home/kai/workspace/llm/.venv/lib/python3.12/site-packages/lmql/ops/token_set.py:499: SyntaxWarning: invalid escape sequence '\\ '\n",
      "  return \"* \\ {}\".format(tokens_str)\n",
      "/home/kai/workspace/llm/.venv/lib/python3.12/site-packages/tqdm/auto.py:21: TqdmWarning: IProgress not found. Please update jupyter and ipywidgets. See https://ipywidgets.readthedocs.io/en/stable/user_install.html\n",
      "  from .autonotebook import tqdm as notebook_tqdm\n",
      "/home/kai/workspace/llm/.venv/lib/python3.12/site-packages/lmql/api/llm.py:220: UserWarning: File tokenizer.model not present in the same folder as the model weights. Using default 'huggyllama/llama-7b' tokenizer for all llama.cpp models. To change this, set the 'tokenizer' argument of your lmql.model(...) object.\n",
      "  warnings.warn(\"File tokenizer.model not present in the same folder as the model weights. Using default '{}' tokenizer for all llama.cpp models. To change this, set the 'tokenizer' argument of your lmql.model(...) object.\".format(\"huggyllama/llama-7b\", UserWarning))\n"
     ]
    },
    {
     "data": {
      "text/plain": [
       "lmql.LLM(llama.cpp:../models/mistral-7b-instruct-v0.2.Q4_K_M.gguf, )"
      ]
     },
     "execution_count": 1,
     "metadata": {},
     "output_type": "execute_result"
    }
   ],
   "source": [
    "import lmql\n",
    "\n",
    "lmql.model(\"llama.cpp:../models/mistral-7b-instruct-v0.2.Q4_K_M.gguf\")"
   ]
  },
  {
   "cell_type": "code",
   "execution_count": 2,
   "metadata": {},
   "outputs": [
    {
     "ename": "RuntimeError",
     "evalue": "LMQL queries cannot be called synchronously from within an async context. Consider one of the following options:\n\n\u001b[31m - [Async Queries] \u001b[0mDeclare your query function with `async def` and then call it with `await`.\n\n\u001b[31m - [Nested Loops / Jupyter Notebooks] \u001b[0mInstall and use nest_asyncio to allow nested event loops:\n      import nest_asyncio\n      nest_asyncio.apply()\n",
     "output_type": "error",
     "traceback": [
      "\u001b[0;31m---------------------------------------------------------------------------\u001b[0m",
      "\u001b[0;31mRuntimeError\u001b[0m                              Traceback (most recent call last)",
      "Cell \u001b[0;32mIn[2], line 14\u001b[0m\n\u001b[1;32m      1\u001b[0m \u001b[38;5;129m@lmql\u001b[39m\u001b[38;5;241m.\u001b[39mquery\n\u001b[1;32m      2\u001b[0m \u001b[38;5;28;01mdef\u001b[39;00m \u001b[38;5;21mchain_of_thought\u001b[39m(question):\n\u001b[1;32m      3\u001b[0m \u001b[38;5;250m    \u001b[39m\u001b[38;5;124;03m'''lmql\u001b[39;00m\n\u001b[1;32m      4\u001b[0m \u001b[38;5;124;03m    # Q&A prompt template\u001b[39;00m\n\u001b[1;32m      5\u001b[0m \u001b[38;5;124;03m    \"Q: {question}\\n\"\u001b[39;00m\n\u001b[0;32m   (...)\u001b[0m\n\u001b[1;32m     11\u001b[0m \u001b[38;5;124;03m    return ANSWER\u001b[39;00m\n\u001b[1;32m     12\u001b[0m \u001b[38;5;124;03m    '''\u001b[39;00m\n\u001b[0;32m---> 14\u001b[0m \u001b[38;5;28mprint\u001b[39m(\u001b[43mchain_of_thought\u001b[49m\u001b[43m(\u001b[49m\u001b[38;5;124;43m'\u001b[39;49m\u001b[38;5;124;43mToday is the 12th of June, what day was it 1 week ago?\u001b[39;49m\u001b[38;5;124;43m'\u001b[39;49m\u001b[43m)\u001b[49m)\n",
      "File \u001b[0;32m~/workspace/llm/.venv/lib/python3.12/site-packages/lmql/api/queries.py:148\u001b[0m, in \u001b[0;36mquery.<locals>.lmql_query_wrapper\u001b[0;34m(*args, **kwargs)\u001b[0m\n\u001b[1;32m    146\u001b[0m \u001b[38;5;129m@wraps\u001b[39m(fct)\n\u001b[1;32m    147\u001b[0m \u001b[38;5;28;01mdef\u001b[39;00m \u001b[38;5;21mlmql_query_wrapper\u001b[39m(\u001b[38;5;241m*\u001b[39margs, \u001b[38;5;241m*\u001b[39m\u001b[38;5;241m*\u001b[39mkwargs):\n\u001b[0;32m--> 148\u001b[0m     \u001b[38;5;28;01mreturn\u001b[39;00m \u001b[43mmodule\u001b[49m\u001b[38;5;241;43m.\u001b[39;49m\u001b[43mquery\u001b[49m\u001b[43m(\u001b[49m\u001b[38;5;241;43m*\u001b[39;49m\u001b[43margs\u001b[49m\u001b[43m,\u001b[49m\u001b[43m \u001b[49m\u001b[38;5;241;43m*\u001b[39;49m\u001b[38;5;241;43m*\u001b[39;49m\u001b[43mkwargs\u001b[49m\u001b[43m)\u001b[49m\n",
      "File \u001b[0;32m~/workspace/llm/.venv/lib/python3.12/site-packages/lmql/runtime/lmql_runtime.py:204\u001b[0m, in \u001b[0;36mLMQLQueryFunction.__call__\u001b[0;34m(self, *args, **kwargs)\u001b[0m\n\u001b[1;32m    202\u001b[0m \u001b[38;5;28;01mdef\u001b[39;00m \u001b[38;5;21m__call__\u001b[39m(\u001b[38;5;28mself\u001b[39m, \u001b[38;5;241m*\u001b[39margs: Any, \u001b[38;5;241m*\u001b[39m\u001b[38;5;241m*\u001b[39mkwargs: Any) \u001b[38;5;241m-\u001b[39m\u001b[38;5;241m>\u001b[39m Any:\n\u001b[1;32m    203\u001b[0m     \u001b[38;5;28;01mif\u001b[39;00m \u001b[38;5;129;01mnot\u001b[39;00m \u001b[38;5;28mself\u001b[39m\u001b[38;5;241m.\u001b[39mis_async:\n\u001b[0;32m--> 204\u001b[0m         \u001b[38;5;28;01mreturn\u001b[39;00m \u001b[43mcall_sync\u001b[49m\u001b[43m(\u001b[49m\u001b[38;5;28;43mself\u001b[39;49m\u001b[43m,\u001b[49m\u001b[43m \u001b[49m\u001b[38;5;241;43m*\u001b[39;49m\u001b[43margs\u001b[49m\u001b[43m,\u001b[49m\u001b[43m \u001b[49m\u001b[38;5;241;43m*\u001b[39;49m\u001b[38;5;241;43m*\u001b[39;49m\u001b[43mkwargs\u001b[49m\u001b[43m)\u001b[49m\n\u001b[1;32m    206\u001b[0m     \u001b[38;5;28;01mreturn\u001b[39;00m \u001b[38;5;28mself\u001b[39m\u001b[38;5;241m.\u001b[39m__acall__(\u001b[38;5;241m*\u001b[39margs, \u001b[38;5;241m*\u001b[39m\u001b[38;5;241m*\u001b[39mkwargs)\n",
      "File \u001b[0;32m~/workspace/llm/.venv/lib/python3.12/site-packages/lmql/runtime/loop.py:52\u001b[0m, in \u001b[0;36mcall_sync\u001b[0;34m(lmql_query_function, *args, **kwargs)\u001b[0m\n\u001b[1;32m     49\u001b[0m     asyncio\u001b[38;5;241m.\u001b[39mensure_future(task)\u001b[38;5;241m.\u001b[39mcancel()\n\u001b[1;32m     51\u001b[0m \u001b[38;5;28;01mif\u001b[39;00m error \u001b[38;5;129;01mis\u001b[39;00m \u001b[38;5;129;01mnot\u001b[39;00m \u001b[38;5;28;01mNone\u001b[39;00m:\n\u001b[0;32m---> 52\u001b[0m     \u001b[38;5;28;01mraise\u001b[39;00m error\n\u001b[1;32m     54\u001b[0m \u001b[38;5;28;01mreturn\u001b[39;00m res\n",
      "\u001b[0;31mRuntimeError\u001b[0m: LMQL queries cannot be called synchronously from within an async context. Consider one of the following options:\n\n\u001b[31m - [Async Queries] \u001b[0mDeclare your query function with `async def` and then call it with `await`.\n\n\u001b[31m - [Nested Loops / Jupyter Notebooks] \u001b[0mInstall and use nest_asyncio to allow nested event loops:\n      import nest_asyncio\n      nest_asyncio.apply()\n"
     ]
    }
   ],
   "source": [
    "@lmql.query\n",
    "def chain_of_thought(question):\n",
    "    \"\"\"lmql\n",
    "    # Q&A prompt template\n",
    "    \"Q: {question}\\n\"\n",
    "    \"A: Let's think step by step.\\n\"\n",
    "    \"[REASONING]\"\n",
    "    \"Thus, the answer is:[ANSWER].\"\n",
    "\n",
    "    # return just the ANSWER to the caller\n",
    "    return ANSWER\n",
    "    \"\"\"\n",
    "\n",
    "\n",
    "print(chain_of_thought(\"Today is the 12th of June, what day was it 1 week ago?\"))"
   ]
  }
 ],
 "metadata": {
  "kernelspec": {
   "display_name": ".venv",
   "language": "python",
   "name": "python3"
  },
  "language_info": {
   "codemirror_mode": {
    "name": "ipython",
    "version": 3
   },
   "file_extension": ".py",
   "mimetype": "text/x-python",
   "name": "python",
   "nbconvert_exporter": "python",
   "pygments_lexer": "ipython3",
   "version": "3.12.1"
  }
 },
 "nbformat": 4,
 "nbformat_minor": 2
}
